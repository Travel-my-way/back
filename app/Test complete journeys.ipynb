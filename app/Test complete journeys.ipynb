{
 "cells": [
  {
   "cell_type": "code",
   "execution_count": 1,
   "metadata": {},
   "outputs": [
    {
     "name": "stdout",
     "output_type": "stream",
     "text": [
      "2589 stops were found. Here is an example:\n",
      "        name   slug country   latitude  longitude  \\\n",
      "id                                                 \n",
      "5605  Ussel  ussel      FR  45.557438   2.314344   \n",
      "\n",
      "                               geoloc  parent_station_id  is_bus_station  \\\n",
      "id                                                                         \n",
      "5605  [45.557438299999994, 2.3143439]            10657.0           False   \n",
      "\n",
      "      is_train_station  geoloc_good  \n",
      "id                                   \n",
      "5605              True         True  \n",
      "found 3562 airports, here is an example: \n",
      "      Code AirportName       City Country  latitude  longitude                       geoloc Code_sky\n",
      "4952  VRL   VILA REAL  VILA REAL  ACORES    41.274      -7.72  [41.273999999999994, -7.72]  VRL-sky \n",
      "747 Ouibus stops were found, here is an example:\n",
      "     _carrier_id country_code destinations_ids   id   latitude long_name  longitude short_name short_name_de short_name_en short_name_es short_name_fr short_name_it short_name_nl    time_zone  id_meta_gare  stops                  geoloc\n",
      "746         PGA           IT               []  807  43.105865   Perugia  12.387788    Perugia       Perugia       Perugia       Perugia       Perugia       Perugia       Perugia  Europe/Rome         807.0    NaN  [43.105865, 12.387788]\n",
      "Import on url coverage \n",
      "46 regions found, here is an example:\n",
      "    dataset_created_at end_production_date  id     last_load_at    name                                              shape start_production_date   status\n",
      "36    20191105T072832            20200614  se  20191114T233438  Sweden  MULTIPOLYGON(((20.99723 68.90611,21.37536 68.7...              20191109  running\n"
     ]
    }
   ],
   "source": [
    "import main"
   ]
  },
  {
   "cell_type": "code",
   "execution_count": 2,
   "metadata": {},
   "outputs": [
    {
     "name": "stdout",
     "output_type": "stream",
     "text": [
      "<TMW.query object at 0x1109750f0>\n",
      "call Trainline API from 4916.0, to 5306.0\n"
     ]
    },
    {
     "name": "stderr",
     "output_type": "stream",
     "text": [
      "/Users/baptistesola/Documents/batch6_travelmyway/app/Trainline.py:186: SettingWithCopyWarning: \n",
      "A value is trying to be set on a copy of a slice from a DataFrame.\n",
      "Try using .loc[row_indexer,col_indexer] = value instead\n",
      "\n",
      "See the caveats in the documentation: http://pandas.pydata.org/pandas-docs/stable/indexing.html#indexing-view-versus-copy\n",
      "  itinerary['next_departure'] = itinerary.departure_date_seg.shift(-1)\n",
      "/Users/baptistesola/Documents/batch6_travelmyway/app/Trainline.py:187: SettingWithCopyWarning: \n",
      "A value is trying to be set on a copy of a slice from a DataFrame.\n",
      "Try using .loc[row_indexer,col_indexer] = value instead\n",
      "\n",
      "See the caveats in the documentation: http://pandas.pydata.org/pandas-docs/stable/indexing.html#indexing-view-versus-copy\n",
      "  itinerary['next_stop_name'] = itinerary.name_depart_seg.shift(-1)\n",
      "/Users/baptistesola/Documents/batch6_travelmyway/app/Trainline.py:188: SettingWithCopyWarning: \n",
      "A value is trying to be set on a copy of a slice from a DataFrame.\n",
      "Try using .loc[row_indexer,col_indexer] = value instead\n",
      "\n",
      "See the caveats in the documentation: http://pandas.pydata.org/pandas-docs/stable/indexing.html#indexing-view-versus-copy\n",
      "  itinerary['next_geoloc'] = itinerary.geoloc_depart_seg.shift(-1)\n"
     ]
    },
    {
     "name": "stdout",
     "output_type": "stream",
     "text": [
      "call Skyscanner from ORY-sky to TLS-sky\n",
      "call Skyscanner from ORY-sky to LRH-sky\n",
      "[{'Message': 'Rate limit has been exceeded: 400 PerMinute for PricingSession'}]\n",
      "call Skyscanner from ORY-sky to LBI-sky\n",
      "[{'Message': 'Rate limit has been exceeded: 400 PerMinute for PricingSession'}]\n",
      "call Skyscanner from LBG-sky to TLS-sky\n",
      "[{'ParameterName': 'OriginPlace', 'ParameterValue': 'LBG', 'Message': 'Incorrect value'}]\n",
      "call Skyscanner from LBG-sky to LRH-sky\n",
      "[{'ParameterName': 'OriginPlace', 'ParameterValue': 'LBG', 'Message': 'Incorrect value'}]\n",
      "call Skyscanner from LBG-sky to LBI-sky\n",
      "[{'Message': 'Rate limit has been exceeded: 400 PerMinute for PricingSession'}]\n",
      "call Skyscanner from TNF-sky to TLS-sky\n",
      "[{'Message': 'Rate limit has been exceeded: 400 PerMinute for PricingSession'}]\n",
      "call Skyscanner from TNF-sky to LRH-sky\n",
      "call Skyscanner from TNF-sky to LBI-sky\n",
      "[{'Message': 'Rate limit has been exceeded: 400 PerMinute for PricingSession'}]\n",
      "call OuiBus API from 90.0 to 16.0\n",
      "call OuiBus API from 90.0 to 516.0\n",
      "call OuiBus API from 90.0 to 495.0\n",
      "call OuiBus API from 90.0 to 660.0\n",
      "call OuiBus API from 90.0 to 152.0\n",
      "call OuiBus API from 618.0 to 16.0\n",
      "call OuiBus API from 618.0 to 516.0\n",
      "call OuiBus API from 618.0 to 495.0\n",
      "call OuiBus API from 618.0 to 660.0\n",
      "call OuiBus API from 618.0 to 152.0\n",
      "nb itinerary : 4\n"
     ]
    },
    {
     "name": "stderr",
     "output_type": "stream",
     "text": [
      "/Users/baptistesola/Documents/batch6_travelmyway/app/OuiBus.py:192: SettingWithCopyWarning: \n",
      "A value is trying to be set on a copy of a slice from a DataFrame.\n",
      "Try using .loc[row_indexer,col_indexer] = value instead\n",
      "\n",
      "See the caveats in the documentation: http://pandas.pydata.org/pandas-docs/stable/indexing.html#indexing-view-versus-copy\n",
      "  itinerary['next_departure'] = itinerary.departure_seg.shift(-1)\n",
      "/Users/baptistesola/Documents/batch6_travelmyway/app/OuiBus.py:193: SettingWithCopyWarning: \n",
      "A value is trying to be set on a copy of a slice from a DataFrame.\n",
      "Try using .loc[row_indexer,col_indexer] = value instead\n",
      "\n",
      "See the caveats in the documentation: http://pandas.pydata.org/pandas-docs/stable/indexing.html#indexing-view-versus-copy\n",
      "  itinerary['next_stop_name'] = itinerary.short_name_origin_seg.shift(1)\n",
      "/Users/baptistesola/Documents/batch6_travelmyway/app/OuiBus.py:194: SettingWithCopyWarning: \n",
      "A value is trying to be set on a copy of a slice from a DataFrame.\n",
      "Try using .loc[row_indexer,col_indexer] = value instead\n",
      "\n",
      "See the caveats in the documentation: http://pandas.pydata.org/pandas-docs/stable/indexing.html#indexing-view-versus-copy\n",
      "  itinerary['next_geoloc'] = itinerary.geoloc_origin_seg.shift(-1)\n"
     ]
    },
    {
     "name": "stdout",
     "output_type": "stream",
     "text": [
      "{'id': 0, 'label': '', 'score': 0, 'total_distance': 0, 'total_duration': 0, 'total_price_EUR': 0, 'departure_point': [0, 0], 'arrival_point': [0, 0], 'departure_date': '2019-11-15 18:06:12.960255', 'arrival_date': '2019-11-15 18:06:12.960261', 'total_gCO2': 0, 'journey_steps': [{'id': 0, 'type': 'Waiting', 'label': '', 'distance_m': 0, 'duration_s': 900, 'price_EUR': [0], 'departure_point': [48.83568689, 2.380160747], 'arrival_point': [48.83568689, 2.380160747], 'departure_stop_name': '', 'arrival_stop_name': '', 'departure_date': '2019-11-15 18:05:42.756515', 'arrival_date': '2019-11-15 18:05:42.756521', 'trip_code': '', 'gCO2': 0}, {'id': 1, 'type': 'Coach', 'label': '', 'distance_m': 584882.7569515631, 'duration_s': 33900, 'price_EUR': [18.99], 'departure_point': [48.83568689, 2.380160747], 'arrival_point': [43.613299, 1.452226], 'departure_stop_name': 'Paris Centre - Bercy-Seine', 'arrival_stop_name': 'Toulouse', 'departure_date': '2019-11-25 07:45:00', 'arrival_date': '2019-11-25 17:10:00', 'trip_code': 'OuiBus 3141', 'gCO2': 90071.94457054071}]}\n",
      "{'id': 0, 'label': '', 'score': 0, 'total_distance': 0, 'total_duration': 0, 'total_price_EUR': 0, 'departure_point': [0, 0], 'arrival_point': [0, 0], 'departure_date': '2019-11-15 18:06:13.073272', 'arrival_date': '2019-11-15 18:06:13.073278', 'total_gCO2': 0, 'journey_steps': [{'id': 0, 'type': 'Waiting', 'label': '', 'distance_m': 0, 'duration_s': 900, 'price_EUR': [0], 'departure_point': [48.83568689, 2.380160747], 'arrival_point': [48.83568689, 2.380160747], 'departure_stop_name': '', 'arrival_stop_name': '', 'departure_date': '2019-11-15 18:05:42.756515', 'arrival_date': '2019-11-15 18:05:42.756521', 'trip_code': '', 'gCO2': 0}, {'id': 1, 'type': 'Coach', 'label': '', 'distance_m': 584882.7569515631, 'duration_s': 34200, 'price_EUR': [18.99], 'departure_point': [48.83568689, 2.380160747], 'arrival_point': [43.613299, 1.452226], 'departure_stop_name': 'Paris Centre - Bercy-Seine', 'arrival_stop_name': 'Toulouse', 'departure_date': '2019-11-25 12:00:00', 'arrival_date': '2019-11-25 21:30:00', 'trip_code': 'OuiBus 50049', 'gCO2': 90071.94457054071}]}\n",
      "{'id': 0, 'label': '', 'score': 0, 'total_distance': 0, 'total_duration': 0, 'total_price_EUR': 0, 'departure_point': [0, 0], 'arrival_point': [0, 0], 'departure_date': '2019-11-15 18:06:13.187221', 'arrival_date': '2019-11-15 18:06:13.187226', 'total_gCO2': 0, 'journey_steps': [{'id': 0, 'type': 'Waiting', 'label': '', 'distance_m': 0, 'duration_s': 900, 'price_EUR': [0], 'departure_point': [48.83568689, 2.380160747], 'arrival_point': [48.83568689, 2.380160747], 'departure_stop_name': '', 'arrival_stop_name': '', 'departure_date': '2019-11-15 18:05:42.756515', 'arrival_date': '2019-11-15 18:05:42.756521', 'trip_code': '', 'gCO2': 0}, {'id': 1, 'type': 'Coach', 'label': '', 'distance_m': 545531.7204337036, 'duration_s': 30000, 'price_EUR': [24.99], 'departure_point': [48.83568689, 2.380160747], 'arrival_point': [43.981774, 1.331668], 'departure_stop_name': 'Paris Centre - Bercy-Seine', 'arrival_stop_name': 'Montauban Sud', 'departure_date': '2019-11-25 21:45:00', 'arrival_date': '2019-11-26 06:05:00', 'trip_code': 'OuiBus 5787', 'gCO2': 84011.88494679036}]}\n",
      "{'id': 0, 'label': '', 'score': 0, 'total_distance': 0, 'total_duration': 0, 'total_price_EUR': 0, 'departure_point': [0, 0], 'arrival_point': [0, 0], 'departure_date': '2019-11-15 18:06:13.302024', 'arrival_date': '2019-11-15 18:06:13.302029', 'total_gCO2': 0, 'journey_steps': [{'id': 0, 'type': 'Waiting', 'label': '', 'distance_m': 0, 'duration_s': 900, 'price_EUR': [0], 'departure_point': [48.83568689, 2.380160747], 'arrival_point': [48.83568689, 2.380160747], 'departure_stop_name': '', 'arrival_stop_name': '', 'departure_date': '2019-11-15 18:05:42.756515', 'arrival_date': '2019-11-15 18:05:42.756521', 'trip_code': '', 'gCO2': 0}, {'id': 1, 'type': 'Coach', 'label': '', 'distance_m': 584882.7569515631, 'duration_s': 31200, 'price_EUR': [28.99], 'departure_point': [48.83568689, 2.380160747], 'arrival_point': [43.613299, 1.452226], 'departure_stop_name': 'Paris Centre - Bercy-Seine', 'arrival_stop_name': 'Toulouse', 'departure_date': '2019-11-25 19:30:00', 'arrival_date': '2019-11-26 04:10:00', 'trip_code': 'OuiBus 3133', 'gCO2': 90071.94457054071}]}\n",
      "nb itinerary : 4\n"
     ]
    },
    {
     "data": {
      "text/plain": [
       "[<TMW.journey at 0x110956518>,\n",
       " <TMW.journey at 0x10e6dd898>,\n",
       " <TMW.journey at 0x109667710>,\n",
       " <TMW.journey at 0x10797cf60>,\n",
       " <TMW.journey at 0x10797c400>,\n",
       " <TMW.journey at 0x10797c358>,\n",
       " <TMW.journey at 0x110ab34e0>,\n",
       " <TMW.journey at 0x1082a69e8>,\n",
       " <TMW.journey at 0x10cfb1b70>,\n",
       " <TMW.journey at 0x10cfd0ef0>,\n",
       " <TMW.journey at 0x10dec3f98>,\n",
       " <TMW.journey at 0x110956a58>,\n",
       " <TMW.journey at 0x110956588>,\n",
       " <TMW.journey at 0x10829b4e0>,\n",
       " <TMW.journey at 0x10797ca20>]"
      ]
     },
     "execution_count": 2,
     "metadata": {},
     "output_type": "execute_result"
    }
   ],
   "source": [
    "main.compute_complete_journey(departure_date = '2019-11-25', geoloc_dep=[48.85,2.35], geoloc_arrival=[43.60,1.44])"
   ]
  },
  {
   "cell_type": "code",
   "execution_count": null,
   "metadata": {},
   "outputs": [],
   "source": []
  }
 ],
 "metadata": {
  "kernelspec": {
   "display_name": "Python 3",
   "language": "python",
   "name": "python3"
  },
  "language_info": {
   "codemirror_mode": {
    "name": "ipython",
    "version": 3
   },
   "file_extension": ".py",
   "mimetype": "text/x-python",
   "name": "python",
   "nbconvert_exporter": "python",
   "pygments_lexer": "ipython3",
   "version": "3.6.5"
  }
 },
 "nbformat": 4,
 "nbformat_minor": 2
}
